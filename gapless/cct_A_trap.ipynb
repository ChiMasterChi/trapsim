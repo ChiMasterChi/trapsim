{
 "metadata": {
  "name": "",
  "signature": "sha256:bcae8ff83a5d1c5fc79f12431433fe147ced33f7672e77e5becf8e506905ad48"
 },
 "nbformat": 3,
 "nbformat_minor": 0,
 "worksheets": [
  {
   "cells": [
    {
     "cell_type": "code",
     "collapsed": false,
     "input": [
      "%run cct_A_trap"
     ],
     "language": "python",
     "metadata": {},
     "outputs": [],
     "prompt_number": 32
    },
    {
     "cell_type": "code",
     "collapsed": false,
     "input": [
      "zp = -760e-6\n",
      "yp = 107.e-6\n",
      "xwalk = np.arange(-30e-6, 0e-6, 1e-6)\n",
      "pot = []\n",
      "w.set_omega_rf(2*pi*35e6)\n",
      "w.set_voltage('rf1', 50.)\n",
      "w.set_voltage('rf2', 50.)\n",
      "for xp in xwalk:\n",
      "    r = (xp, yp, zp)\n",
      "    pot.append( w.compute_pseudopot([xp, yp, zp]) )\n",
      "plot(array(xwalk)*1e6, array(pot))"
     ],
     "language": "python",
     "metadata": {},
     "outputs": [
      {
       "metadata": {},
       "output_type": "pyout",
       "prompt_number": 33,
       "text": [
        "[<matplotlib.lines.Line2D at 0x4bcd810>]"
       ]
      },
      {
       "metadata": {},
       "output_type": "display_data",
       "png": "[encoded data removed]",
       "text": [
        "<matplotlib.figure.Figure at 0x4880390>"
       ]
      }
     ],
     "prompt_number": 33
    },
    {
     "cell_type": "code",
     "collapsed": false,
     "input": [
      "elec = '2'\n",
      "w.set_voltage(elec, 1.)\n",
      "zp = 760e-6\n",
      "yp = 107e-6\n",
      "w.dc_electrode_dict[elec].expand_in_multipoles([-17e-6, yp, zp ], r0=1e-3)\n",
      "x = w.dc_electrode_dict[elec]\n",
      "x.multipole_dict"
     ],
     "language": "python",
     "metadata": {},
     "outputs": [
      {
       "metadata": {},
       "output_type": "pyout",
       "prompt_number": 36,
       "text": [
        "{'Ex': 0.098781527108585579,\n",
        " 'Ey': -0.13754638447894532,\n",
        " 'Ez': 0.092868635136859723,\n",
        " 'U1': 0.74993345626641994,\n",
        " 'U2': 0.21549328717370203,\n",
        " 'U3': -1.0884789314917551,\n",
        " 'U4': -1.0263687315808727,\n",
        " 'U5': 1.6189076004483147}"
       ]
      }
     ],
     "prompt_number": 36
    },
    {
     "cell_type": "code",
     "collapsed": false,
     "input": [
      "from scipy import optimize as opt\n",
      "def find_trap_location(r0):\n",
      "    x0 = [r0[0], r0[1]]\n",
      "    fixed = r0[2]\n",
      "    cost = lambda r: w.compute_pseudopot([r[0],r[1],fixed])\n",
      "    result = opt.minimize(cost, x0, method='Nelder-Mead')\n",
      "    r_trap = [result.x[0], result.x[1], fixed ]\n",
      "    return array(r_trap)\n",
      "\n",
      "r0 = array([-16, 102, 760])*1e-6\n",
      "r_trap = find_trap_location(r0)\n",
      "print r_trap*1e6\n",
      "print w.compute_pseudopot(r_trap)"
     ],
     "language": "python",
     "metadata": {},
     "outputs": [
      {
       "output_type": "stream",
       "stream": "stdout",
       "text": [
        "[ -16.8  107.1  760. ]\n",
        "3.49705778518e-05\n"
       ]
      }
     ],
     "prompt_number": 31
    },
    {
     "cell_type": "code",
     "collapsed": false,
     "input": [
      "elec = '15'\n",
      "w.set_voltage(elec, 1.)\n",
      "zp = 760e-6\n",
      "yp = 107e-6\n",
      "w.dc_electrode_dict[elec].expand_in_multipoles([-17e-6, yp, zp ], r0=1.)\n",
      "x = w.dc_electrode_dict[elec]\n",
      "xz = x.taylor_dict['xz']\n",
      "print xz"
     ],
     "language": "python",
     "metadata": {},
     "outputs": [
      {
       "output_type": "stream",
       "stream": "stdout",
       "text": [
        "175617.068763\n"
       ]
      }
     ],
     "prompt_number": 46
    },
    {
     "cell_type": "code",
     "collapsed": false,
     "input": [
      "print xz"
     ],
     "language": "python",
     "metadata": {},
     "outputs": [
      {
       "output_type": "stream",
       "stream": "stdout",
       "text": [
        "809453.800224\n"
       ]
      }
     ],
     "prompt_number": 43
    },
    {
     "cell_type": "code",
     "collapsed": false,
     "input": [],
     "language": "python",
     "metadata": {},
     "outputs": []
    }
   ],
   "metadata": {}
  }
 ]
}