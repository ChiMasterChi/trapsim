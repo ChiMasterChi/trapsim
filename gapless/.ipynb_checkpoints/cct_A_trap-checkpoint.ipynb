{
 "metadata": {
  "name": ""
 },
 "nbformat": 3,
 "nbformat_minor": 0,
 "worksheets": [
  {
   "cells": [
    {
     "cell_type": "code",
     "collapsed": false,
     "input": [
      "%run cct_A_trap"
     ],
     "language": "python",
     "metadata": {},
     "outputs": [],
     "prompt_number": 1
    },
    {
     "cell_type": "code",
     "collapsed": false,
     "input": [
      "zp = 750.\n",
      "yp = 100.\n",
      "xwalk = np.arange(-400, 400, 1e-6)\n",
      "pot = []\n",
      "#for xp in xwalk:\n",
      "#    r = (xp, yp, zp)\n",
      "#    pot.append( w.compute_pseudopot(xp, yp, zp) )\n",
      "#plot(array(xwalk), array(pot))"
     ],
     "language": "python",
     "metadata": {},
     "outputs": [
      {
       "metadata": {},
       "output_type": "pyout",
       "prompt_number": 4,
       "text": [
        "<gapless.World instance at 0x10f680dd0>"
       ]
      }
     ],
     "prompt_number": 4
    },
    {
     "cell_type": "code",
     "collapsed": false,
     "input": [],
     "language": "python",
     "metadata": {},
     "outputs": []
    }
   ],
   "metadata": {}
  }
 ]
}