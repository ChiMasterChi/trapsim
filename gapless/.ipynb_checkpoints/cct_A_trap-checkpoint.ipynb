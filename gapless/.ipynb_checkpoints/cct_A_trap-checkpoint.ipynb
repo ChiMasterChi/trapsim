{
 "metadata": {
  "name": ""
 },
 "nbformat": 3,
 "nbformat_minor": 0,
 "worksheets": [
  {
   "cells": [
    {
     "cell_type": "code",
     "collapsed": false,
     "input": [
      "%run cct_A_trap"
     ],
     "language": "python",
     "metadata": {},
     "outputs": [],
     "prompt_number": 1
    },
    {
     "cell_type": "code",
     "collapsed": false,
     "input": [
      "zp = -760e-6\n",
      "yp = 107.e-6\n",
      "xwalk = np.arange(-100e-6, 100e-6, 1e-6)\n",
      "pot = []\n",
      "w.set_omega_rf(2*pi*35e6)\n",
      "w.set_voltage('rf1', 50.)\n",
      "w.set_voltage('rf2', 50.)\n",
      "for xp in xwalk:\n",
      "    r = (xp, yp, zp)\n",
      "    pot.append( w.compute_pseudopot([xp, yp, zp]) )\n",
      "plot(array(xwalk)*1e6, array(pot))"
     ],
     "language": "python",
     "metadata": {},
     "outputs": [
      {
       "metadata": {},
       "output_type": "pyout",
       "prompt_number": 2,
       "text": [
        "[<matplotlib.lines.Line2D at 0x1088f27d0>]"
       ]
      },
      {
       "metadata": {},
       "output_type": "display_data",
       "png": "[encoded data removed]",
       "text": [
        "<matplotlib.figure.Figure at 0x1087a7f90>"
       ]
      }
     ],
     "prompt_number": 2
    },
    {
     "cell_type": "code",
     "collapsed": false,
     "input": [
      "elec = '15'\n",
      "w.set_voltage(elec, 1.)\n",
      "zp = 760e-6\n",
      "yp = 107e-6\n",
      "w.dc_electrode_dict[elec].expand_in_multipoles([-17e-6, yp, zp ], r0=1e-3)\n",
      "x = w.dc_electrode_dict[elec]\n",
      "x.multipole_dict"
     ],
     "language": "python",
     "metadata": {},
     "outputs": [
      {
       "metadata": {},
       "output_type": "pyout",
       "prompt_number": 6,
       "text": [
        "{'Ex': 0.037816021020808312,\n",
        " 'Ey': -0.068308078214781964,\n",
        " 'Ez': -0.023149337970245945,\n",
        " 'U1': 0.22538144321478354,\n",
        " 'U2': 0.014444243772328263,\n",
        " 'U3': -0.55974119527733723,\n",
        " 'U4': 0.34384869202327983,\n",
        " 'U5': -0.35123413751651672}"
       ]
      }
     ],
     "prompt_number": 6
    },
    {
     "cell_type": "code",
     "collapsed": false,
     "input": [],
     "language": "python",
     "metadata": {},
     "outputs": []
    }
   ],
   "metadata": {}
  }
 ]
}