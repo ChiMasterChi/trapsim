{
 "metadata": {
  "name": "",
  "signature": "sha256:bcae8ff83a5d1c5fc79f12431433fe147ced33f7672e77e5becf8e506905ad48"
 },
 "nbformat": 3,
 "nbformat_minor": 0,
 "worksheets": [
  {
   "cells": [
    {
     "cell_type": "code",
     "collapsed": false,
     "input": [
      "u = loadtxt('u_6_20.txt')\n"
     ],
     "language": "python",
     "metadata": {},
     "outputs": [],
     "prompt_number": 1
    },
    {
     "cell_type": "code",
     "collapsed": false,
     "input": [
      "%run cct_A_trap"
     ],
     "language": "python",
     "metadata": {},
     "outputs": [
      {
       "metadata": {},
       "output_type": "display_data",
       "png": "[encoded data removed]",
       "text": [
        "<matplotlib.figure.Figure at 0x7fa591c67f10>"
       ]
      }
     ],
     "prompt_number": 2
    },
    {
     "cell_type": "code",
     "collapsed": false,
     "input": [
      "zp = -760e-6\n",
      "yp = 107.e-6\n",
      "xwalk = np.arange(-30e-6, 0e-6, 1e-6)\n",
      "pot = []\n",
      "w.set_omega_rf(2*pi*35e6)\n",
      "w.set_voltage('rf1', 50.)\n",
      "w.set_voltage('rf2', 50.)\n",
      "for xp in xwalk:\n",
      "    r = (xp, yp, zp)\n",
      "    pot.append( w.compute_pseudopot([xp, yp, zp]) )\n",
      "plot(array(xwalk)*1e6, array(pot))"
     ],
     "language": "python",
     "metadata": {},
     "outputs": [
      {
       "metadata": {},
       "output_type": "pyout",
       "prompt_number": 3,
       "text": [
        "[<matplotlib.lines.Line2D at 0x7fa590eeec10>]"
       ]
      },
      {
       "metadata": {},
       "output_type": "display_data",
       "png": "[encoded data removed]",
       "text": [
        "<matplotlib.figure.Figure at 0x7fa590f48fd0>"
       ]
      }
     ],
     "prompt_number": 3
    },
    {
     "cell_type": "code",
     "collapsed": false,
     "input": [
      "from scipy import optimize as opt\n",
      "def find_trap_location(r0):\n",
      "    x0 = [r0[0], r0[1]]\n",
      "    fixed = r0[2]\n",
      "    cost = lambda r: w.compute_pseudopot([r[0],r[1],fixed])\n",
      "    result = opt.minimize(cost, x0, method='Nelder-Mead')\n",
      "    r_trap = [result.x[0], result.x[1], fixed ]\n",
      "    return array(r_trap)\n",
      "\n",
      "r0 = array([-16, 102, 760])*1e-6\n",
      "r_trap = find_trap_location(r0)\n",
      "print r_trap*1e6\n",
      "print w.compute_pseudopot(r_trap)"
     ],
     "language": "python",
     "metadata": {},
     "outputs": [
      {
       "output_type": "stream",
       "stream": "stdout",
       "text": [
        "[ -16.8  107.1  760. ]\n",
        "3.49705778518e-05\n"
       ]
      }
     ],
     "prompt_number": 5
    },
    {
     "cell_type": "code",
     "collapsed": false,
     "input": [
      "elec_name = w.dc_electrode_dict.keys()\n",
      "elec_name.sort()\n",
      "mult_index = 1\n",
      "\n",
      "for en in elec_name:\n",
      "    i = int(en)\n",
      "    #print i, u[i,mult_index]\n",
      "    w.set_voltage(en, u[i,mult_index])\n",
      "   \n",
      "potlist2 = []\n",
      "for z_i in xrange(Nz):\n",
      "    r = [xp,yp,Z[z_i]]\n",
      "    a = w.compute_total_dc_potential(r)\n",
      "    potlist2.append(a)\n",
      "potlist2 = array(potlist2)"
     ],
     "language": "python",
     "metadata": {},
     "outputs": [],
     "prompt_number": 52
    },
    {
     "cell_type": "code",
     "collapsed": false,
     "input": [
      "elec_name = w.dc_electrode_dict.keys()\n",
      "elec_name.sort()\n",
      "mult_index = 1\n",
      "\n",
      "zp = 1270e-6\n",
      "yp = 107e-6\n",
      "xp = -17e-6\n",
      "\n",
      "r = [xp,yp,zp]\n",
      "for en in elec_name:\n",
      "    i = int(en)\n",
      "    w.set_voltage(en, 1)\n",
      "    a = w.compute_total_dc_potential\n",
      "    aa = w.dc_electrode_dict[en]\n",
      "    v = aa.compute_voltage(r)\n",
      "    w.set_voltage(en, 0)\n",
      "   \n",
      "potlist2 = []\n",
      "for z_i in xrange(Nz):\n",
      "    r = [xp,yp,Z[z_i]]\n",
      "    a = w.compute_total_dc_potential(r)\n",
      "    potlist2.append(a)\n",
      "potlist2 = array(potlist2)"
     ],
     "language": "python",
     "metadata": {},
     "outputs": [],
     "prompt_number": 43
    },
    {
     "cell_type": "code",
     "collapsed": false,
     "input": [
      "vdict = {}\n",
      "vdict1 = {}\n",
      "for en in elec_name:\n",
      "    w.set_voltage(en, 1.)\n",
      "    zp = 1270e-6\n",
      "    yp = 107e-6\n",
      "    w.dc_electrode_dict[en].expand_in_multipoles([-17e-6, yp, zp ], r0=1)\n",
      "    x = w.dc_electrode_dict[en]\n",
      "    vdict[en] = x.multipole_dict['z^4']\n",
      "    vdict1[en] = x.multipole_dict['U2']\n",
      "    #print en, x.multipole_dict['z^4']/1e12\n",
      "    "
     ],
     "language": "python",
     "metadata": {},
     "outputs": [],
     "prompt_number": 54
    },
    {
     "cell_type": "code",
     "collapsed": false,
     "input": [
      "for en in elec_name:\n",
      "    w.set_voltage(en, vdict[en])\n",
      "    \n",
      "\n",
      "potlist3 = []\n",
      "for z_i in xrange(Nz):\n",
      "    r = [xp,yp,Z[z_i]]\n",
      "    a = w.compute_total_dc_potential(r)\n",
      "    potlist3.append(a)\n",
      "potlist3 = array(potlist3) / max(np.abs(potlist3)) \n",
      "potlist3 = (potlist3) - min((potlist3))\n",
      "plot(Z,potlist3)\n",
      "\n",
      "\n",
      "\n",
      "for en in elec_name:\n",
      "    w.set_voltage(en, vdict1[en])\n",
      "   \n",
      "potlist4 = []\n",
      "for z_i in xrange(Nz):\n",
      "    r = [xp,yp,Z[z_i]]\n",
      "    a = w.compute_total_dc_potential(r)\n",
      "    potlist4.append(a)\n",
      "potlist4 = array(potlist4) / max(np.abs(potlist4))\n",
      "potlist4 = (potlist4) - min((potlist4))\n",
      "clf()\n",
      "plot(Z,2*potlist3,'b',label='4th order')\n",
      "plot(Z,200*potlist4,'r')\n",
      "legend()\n",
      "#plot(Z,potlist4+potlist3,'y')\n"
     ],
     "language": "python",
     "metadata": {},
     "outputs": [
      {
       "metadata": {},
       "output_type": "pyout",
       "prompt_number": 59,
       "text": [
        "<matplotlib.legend.Legend at 0x7fa5877dd6d0>"
       ]
      },
      {
       "metadata": {},
       "output_type": "display_data",
       "png": "[encoded data removed]",
       "text": [
        "<matplotlib.figure.Figure at 0x7fa5878b03d0>"
       ]
      }
     ],
     "prompt_number": 59
    },
    {
     "cell_type": "code",
     "collapsed": false,
     "input": [
      "a = vdict.keys()\n",
      "a.sort()\n",
      "for k in a:\n",
      "    print k, vdict[k] / 1e14, vdict1[k]/1e6"
     ],
     "language": "python",
     "metadata": {},
     "outputs": [
      {
       "output_type": "stream",
       "stream": "stdout",
       "text": [
        "1 -0.0130501789524 0.00464733246385\n",
        "10 -0.00348210192751 0.00197582393989\n",
        "11 -0.000593898157993 0.000557551313282\n",
        "12 -0.00628305867806 0.00291466496037\n",
        "13 -0.0194568573541 0.00718219597358\n",
        "14 0.045308198215 0.00255715445883\n",
        "15 0.242834864951 -0.215798829761\n",
        "16 -0.48750519704 -0.166634125284\n",
        "17 0.242835318427 -0.215798829766\n",
        "18 0.0453082063256 0.00255715442881\n",
        "19 -0.019456877418 0.00718219597686\n",
        "2 -0.0776848147771 0.0170151987135\n",
        "20 -0.0062830532661 0.0029146649577\n",
        "21 -0.00224766709887 0.00149671159957\n",
        "22 -0.000459762652413 0.000473624147974\n",
        "23 1.28090654857e-07 15.4017463807\n",
        "3 -0.480805069885 0.0700803653783\n",
        "4 7.66731391652 -0.842725472113\n",
        "5 -13.5809881307 -1.52748045674\n",
        "6 7.66731330115 -0.842725472142\n",
        "7 -0.480805232908 0.0700803653355\n",
        "8 -0.0776848319176 0.0170151987227\n",
        "9 -0.013050155456 0.00464733245592\n"
       ]
      }
     ],
     "prompt_number": 51
    },
    {
     "cell_type": "code",
     "collapsed": false,
     "input": [],
     "language": "python",
     "metadata": {},
     "outputs": [],
     "prompt_number": 46
    },
    {
     "cell_type": "code",
     "collapsed": false,
     "input": [],
     "language": "python",
     "metadata": {},
     "outputs": []
    }
   ],
   "metadata": {}
  }
 ]
}