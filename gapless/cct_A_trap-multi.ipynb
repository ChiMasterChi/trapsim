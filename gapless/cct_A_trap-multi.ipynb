{
 "metadata": {
  "name": "",
  "signature": "sha256:bcae8ff83a5d1c5fc79f12431433fe147ced33f7672e77e5becf8e506905ad48"
 },
 "nbformat": 3,
 "nbformat_minor": 0,
 "worksheets": [
  {
   "cells": [
    {
     "cell_type": "code",
     "collapsed": false,
     "input": [
      "u = loadtxt('u_6_20.txt')\n"
     ],
     "language": "python",
     "metadata": {},
     "outputs": [],
     "prompt_number": 115
    },
    {
     "cell_type": "code",
     "collapsed": false,
     "input": [
      "%run cct_A_trap"
     ],
     "language": "python",
     "metadata": {},
     "outputs": [
      {
       "metadata": {},
       "output_type": "display_data",
       "png": "[encoded data removed]",
       "text": [
        "<matplotlib.figure.Figure at 0x7fbcef434e50>"
       ]
      }
     ],
     "prompt_number": 116
    },
    {
     "cell_type": "code",
     "collapsed": false,
     "input": [
      "zp = -760e-6\n",
      "yp = 107.e-6\n",
      "xwalk = np.arange(-30e-6, 0e-6, 1e-6)\n",
      "pot = []\n",
      "w.set_omega_rf(2*pi*35e6)\n",
      "w.set_voltage('rf1', 50.)\n",
      "w.set_voltage('rf2', 50.)\n",
      "for xp in xwalk:\n",
      "    r = (xp, yp, zp)\n",
      "    pot.append( w.compute_pseudopot([xp, yp, zp]) )\n",
      "plot(array(xwalk)*1e6, array(pot))"
     ],
     "language": "python",
     "metadata": {},
     "outputs": [
      {
       "metadata": {},
       "output_type": "pyout",
       "prompt_number": 117,
       "text": [
        "[<matplotlib.lines.Line2D at 0x7fbcef90d6d0>]"
       ]
      },
      {
       "metadata": {},
       "output_type": "display_data",
       "png": "[encoded data removed]",
       "text": [
        "<matplotlib.figure.Figure at 0x7fbcef54c3d0>"
       ]
      }
     ],
     "prompt_number": 117
    },
    {
     "cell_type": "code",
     "collapsed": false,
     "input": [
      "elec = '4'\n",
      "w.set_voltage(elec, 1.)\n",
      "zp = 760e-6\n",
      "yp = 107e-6\n",
      "w.dc_electrode_dict[elec].expand_in_multipoles([-17e-6, yp, zp ], r0=1e-3)\n",
      "x = w.dc_electrode_dict[elec]\n",
      "x.multipole_dict"
     ],
     "language": "python",
     "metadata": {},
     "outputs": [
      {
       "metadata": {},
       "output_type": "pyout",
       "prompt_number": 118,
       "text": [
        "{'Ex': 0.098781527108535494,\n",
        " 'Ey': -0.13754638447823325,\n",
        " 'Ez': -0.092868635136792776,\n",
        " 'U1': 0.74993345748815132,\n",
        " 'U2': 0.21549328718192773,\n",
        " 'U3': -1.0884789314845973,\n",
        " 'U4': 1.0263687315140255,\n",
        " 'U5': -1.6189075995590265}"
       ]
      }
     ],
     "prompt_number": 118
    },
    {
     "cell_type": "code",
     "collapsed": false,
     "input": [
      "from scipy import optimize as opt\n",
      "def find_trap_location(r0):\n",
      "    x0 = [r0[0], r0[1]]\n",
      "    fixed = r0[2]\n",
      "    cost = lambda r: w.compute_pseudopot([r[0],r[1],fixed])\n",
      "    result = opt.minimize(cost, x0, method='Nelder-Mead')\n",
      "    r_trap = [result.x[0], result.x[1], fixed ]\n",
      "    return array(r_trap)\n",
      "\n",
      "r0 = array([-16, 102, 760])*1e-6\n",
      "r_trap = find_trap_location(r0)\n",
      "print r_trap*1e6\n",
      "print w.compute_pseudopot(r_trap)"
     ],
     "language": "python",
     "metadata": {},
     "outputs": [
      {
       "output_type": "stream",
       "stream": "stdout",
       "text": [
        "[ -16.8  107.1  760. ]\n",
        "3.49705778541e-05\n"
       ]
      }
     ],
     "prompt_number": 119
    },
    {
     "cell_type": "code",
     "collapsed": false,
     "input": [
      "elec = '15'\n",
      "w.set_voltage(elec, 1.)\n",
      "zp = 760e-6\n",
      "yp = 107e-6\n",
      "w.dc_electrode_dict[elec].expand_in_multipoles([-17e-6, yp, zp ], r0=1.)\n",
      "x = w.dc_electrode_dict[elec]\n",
      "xz = x.taylor_dict['xz']\n",
      "print xz"
     ],
     "language": "python",
     "metadata": {},
     "outputs": [
      {
       "output_type": "stream",
       "stream": "stdout",
       "text": [
        "175617.068796\n"
       ]
      }
     ],
     "prompt_number": 120
    },
    {
     "cell_type": "code",
     "collapsed": false,
     "input": [
      "print xz"
     ],
     "language": "python",
     "metadata": {},
     "outputs": [
      {
       "output_type": "stream",
       "stream": "stdout",
       "text": [
        "175617.068796\n"
       ]
      }
     ],
     "prompt_number": 121
    },
    {
     "cell_type": "code",
     "collapsed": false,
     "input": [
      "elec_name = w.dc_electrode_dict.keys()\n",
      "elec_name.sort()\n",
      "mult_index = 0\n",
      "#u[:,0] = np.zeros((24))\n",
      "#u[3,0] = 0\n",
      "for en in elec_name:\n",
      "    i = int(en)\n",
      "    w.set_voltage(en, u[i,mult_index])\n",
      "   \n",
      "zp = 760e-6\n",
      "yp = 107e-6\n",
      "xp = -17e-6\n",
      "Nz = 100\n",
      "Z = linspace(600e-6,900e-6,Nz)\n",
      "potlist = []\n",
      "for z_i in xrange(Nz):\n",
      "    r = [xp,yp,Z[z_i]]\n",
      "    a = w.compute_total_dc_potential(r)\n",
      "    potlist.append(a)\n",
      "potlist = array(potlist)"
     ],
     "language": "python",
     "metadata": {},
     "outputs": [],
     "prompt_number": 122
    },
    {
     "cell_type": "code",
     "collapsed": false,
     "input": [
      "elec_name = w.dc_electrode_dict.keys()\n",
      "elec_name.sort()\n",
      "mult_index = 1\n",
      "\n",
      "for en in elec_name:\n",
      "    i = int(en)\n",
      "    print i, u[i,mult_index]\n",
      "    w.set_voltage(en, u[i,mult_index])\n",
      "   \n",
      "potlist2 = []\n",
      "for z_i in xrange(Nz):\n",
      "    r = [xp,yp,Z[z_i]]\n",
      "    a = w.compute_total_dc_potential(r)\n",
      "    potlist2.append(a)\n",
      "potlist2 = array(potlist2)"
     ],
     "language": "python",
     "metadata": {},
     "outputs": [
      {
       "output_type": "stream",
       "stream": "stdout",
       "text": [
        "1 0.32309407651\n",
        "10 -0.197810672773\n",
        "11 -0.0408404957\n",
        "12 -0.660969811356\n",
        "13 0.195971933916\n",
        "14 -0.0327010193452\n",
        "15 -0.0448972656196\n",
        "16 0.162586451092\n",
        "17 0.333859035142\n",
        "18 0.246948218268\n",
        "19 -0.147250221488\n",
        "2 -0.0380030915191\n",
        "20 -0.141612418013\n",
        "21 -0.177143749608\n",
        "22 -0.0862002746082\n",
        "23 5.03054415064e-05\n",
        "3 0.00506926165645\n",
        "4 0.000858402878756\n",
        "5 -0.472128165352\n",
        "6 0.459427400841\n",
        "7 -0.354444926064\n",
        "8 -0.520636213442\n",
        "9 -0.0623168958046\n"
       ]
      }
     ],
     "prompt_number": 123
    },
    {
     "cell_type": "code",
     "collapsed": false,
     "input": [
      "plot(Z*1e6, potlist)\n",
      "plot(Z*1e6, -50*potlist2)\n",
      "plot(Z*1e6, -100*potlist2 + potlist)"
     ],
     "language": "python",
     "metadata": {},
     "outputs": [
      {
       "metadata": {},
       "output_type": "pyout",
       "prompt_number": 124,
       "text": [
        "[<matplotlib.lines.Line2D at 0x7fbcef214b90>]"
       ]
      },
      {
       "metadata": {},
       "output_type": "display_data",
       "png": "[encoded data removed]",
       "text": [
        "<matplotlib.figure.Figure at 0x7fbcef2a7790>"
       ]
      }
     ],
     "prompt_number": 124
    },
    {
     "cell_type": "code",
     "collapsed": false,
     "input": [
      "u[:,0].shape"
     ],
     "language": "python",
     "metadata": {},
     "outputs": [
      {
       "metadata": {},
       "output_type": "pyout",
       "prompt_number": 125,
       "text": [
        "(24,)"
       ]
      }
     ],
     "prompt_number": 125
    },
    {
     "cell_type": "code",
     "collapsed": false,
     "input": [
      "elec = '3'\n",
      "#w.set_voltage(elec, 15.)\n",
      "zp = 760e-6\n",
      "yp = 107e-6\n",
      "aa = w.dc_electrode_dict[elec]\n",
      "print aa.voltage"
     ],
     "language": "python",
     "metadata": {},
     "outputs": [
      {
       "output_type": "stream",
       "stream": "stdout",
       "text": [
        "0.00506926165645\n"
       ]
      }
     ],
     "prompt_number": 126
    },
    {
     "cell_type": "code",
     "collapsed": false,
     "input": [],
     "language": "python",
     "metadata": {},
     "outputs": [],
     "prompt_number": 126
    },
    {
     "cell_type": "code",
     "collapsed": false,
     "input": [],
     "language": "python",
     "metadata": {},
     "outputs": [],
     "prompt_number": 126
    }
   ],
   "metadata": {}
  }
 ]
}