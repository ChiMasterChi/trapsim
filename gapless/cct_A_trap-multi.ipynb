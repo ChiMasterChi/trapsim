{
 "metadata": {
  "name": "",
  "signature": "sha256:bcae8ff83a5d1c5fc79f12431433fe147ced33f7672e77e5becf8e506905ad48"
 },
 "nbformat": 3,
 "nbformat_minor": 0,
 "worksheets": [
  {
   "cells": [
    {
     "cell_type": "code",
     "collapsed": false,
     "input": [
      "u = loadtxt('u_6_20.txt')\n"
     ],
     "language": "python",
     "metadata": {},
     "outputs": [],
     "prompt_number": 1
    },
    {
     "cell_type": "code",
     "collapsed": false,
     "input": [
      "%run cct_A_trap"
     ],
     "language": "python",
     "metadata": {},
     "outputs": [
      {
       "metadata": {},
       "output_type": "display_data",
       "png": "[encoded data removed]",
       "text": [
        "<matplotlib.figure.Figure at 0x7f423c39dd50>"
       ]
      }
     ],
     "prompt_number": 2
    },
    {
     "cell_type": "code",
     "collapsed": false,
     "input": [
      "zp = -760e-6\n",
      "yp = 107.e-6\n",
      "xwalk = np.arange(-30e-6, 0e-6, 1e-6)\n",
      "pot = []\n",
      "w.set_omega_rf(2*pi*35e6)\n",
      "w.set_voltage('rf1', 50.)\n",
      "w.set_voltage('rf2', 50.)\n",
      "for xp in xwalk:\n",
      "    r = (xp, yp, zp)\n",
      "    pot.append( w.compute_pseudopot([xp, yp, zp]) )\n",
      "plot(array(xwalk)*1e6, array(pot))"
     ],
     "language": "python",
     "metadata": {},
     "outputs": [
      {
       "metadata": {},
       "output_type": "pyout",
       "prompt_number": 3,
       "text": [
        "[<matplotlib.lines.Line2D at 0x7f4233595a10>]"
       ]
      },
      {
       "metadata": {},
       "output_type": "display_data",
       "png": "[encoded data removed]",
       "text": [
        "<matplotlib.figure.Figure at 0x7f42337222d0>"
       ]
      }
     ],
     "prompt_number": 3
    },
    {
     "cell_type": "code",
     "collapsed": false,
     "input": [
      "from scipy import optimize as opt\n",
      "def find_trap_location(r0):\n",
      "    x0 = [r0[0], r0[1]]\n",
      "    fixed = r0[2]\n",
      "    cost = lambda r: w.compute_pseudopot([r[0],r[1],fixed])\n",
      "    result = opt.minimize(cost, x0, method='Nelder-Mead')\n",
      "    r_trap = [result.x[0], result.x[1], fixed ]\n",
      "    return array(r_trap)\n",
      "\n",
      "r0 = array([-16, 102, 760])*1e-6\n",
      "r_trap = find_trap_location(r0)\n",
      "print r_trap*1e6\n",
      "print w.compute_pseudopot(r_trap)"
     ],
     "language": "python",
     "metadata": {},
     "outputs": [
      {
       "output_type": "stream",
       "stream": "stdout",
       "text": [
        "[ -16.8  107.1  760. ]\n",
        "3.49705778541e-05\n"
       ]
      }
     ],
     "prompt_number": 4
    },
    {
     "cell_type": "code",
     "collapsed": false,
     "input": [
      "Nz =100\n",
      "Z = linspace(1000e-6,1500e-6,Nz)\n",
      "\n",
      "elec_name = w.dc_electrode_dict.keys()\n",
      "elec_name.sort()\n",
      "mult_index = 1\n",
      "\n",
      "for en in elec_name:\n",
      "    i = int(en)\n",
      "    #print i, u[i,mult_index]\n",
      "    w.set_voltage(en, u[i,mult_index])\n",
      "   \n",
      "potlist2 = []\n",
      "for z_i in xrange(Nz):\n",
      "    r = [xp,yp,Z[z_i]]\n",
      "    a = w.compute_total_dc_potential(r)\n",
      "    potlist2.append(a)\n",
      "potlist2 = array(potlist2)"
     ],
     "language": "python",
     "metadata": {},
     "outputs": [],
     "prompt_number": 11
    },
    {
     "cell_type": "code",
     "collapsed": false,
     "input": [
      "elec_name = w.dc_electrode_dict.keys()\n",
      "elec_name.sort()\n",
      "mult_index = 1\n",
      "\n",
      "zp = 1270e-6\n",
      "yp = 107e-6\n",
      "xp = -17e-6\n",
      "\n",
      "r = [xp,yp,zp]\n",
      "for en in elec_name:\n",
      "    i = int(en)\n",
      "    w.set_voltage(en, 1)\n",
      "    a = w.compute_total_dc_potential\n",
      "    aa = w.dc_electrode_dict[en]\n",
      "    v = aa.compute_voltage(r)\n",
      "    w.set_voltage(en, 0)\n",
      "   \n",
      "potlist2 = []\n",
      "for z_i in xrange(Nz):\n",
      "    r = [xp,yp,Z[z_i]]\n",
      "    a = w.compute_total_dc_potential(r)\n",
      "    potlist2.append(a)\n",
      "potlist2 = array(potlist2)"
     ],
     "language": "python",
     "metadata": {},
     "outputs": [],
     "prompt_number": 12
    },
    {
     "cell_type": "code",
     "collapsed": false,
     "input": [
      "vdict = {}\n",
      "vdict1 = {}\n",
      "for en in elec_name:\n",
      "    w.set_voltage(en, 1.)\n",
      "    zp = 1270e-6\n",
      "    yp = 107e-6\n",
      "    w.dc_electrode_dict[en].expand_in_multipoles([-17e-6, yp, zp ], r0=1)\n",
      "    x = w.dc_electrode_dict[en]\n",
      "    vdict[en] = x.multipole_dict['z^4']\n",
      "    vdict1[en] = x.multipole_dict['U2']\n",
      "    #print en, x.multipole_dict['z^4']/1e12\n",
      "    "
     ],
     "language": "python",
     "metadata": {},
     "outputs": [],
     "prompt_number": 13
    },
    {
     "cell_type": "code",
     "collapsed": false,
     "input": [
      "for en in elec_name:\n",
      "    w.set_voltage(en, vdict[en])\n",
      "    \n",
      "\n",
      "potlist3 = []\n",
      "for z_i in xrange(Nz):\n",
      "    r = [xp,yp,Z[z_i]]\n",
      "    a = w.compute_total_dc_potential(r)\n",
      "    potlist3.append(a)\n",
      "potlist3 = array(potlist3) / max(np.abs(potlist3)) \n",
      "potlist3 = (potlist3) - min((potlist3))\n",
      "plot(Z,potlist3)\n",
      "\n",
      "\n",
      "\n",
      "for en in elec_name:\n",
      "    w.set_voltage(en, vdict1[en])\n",
      "   \n",
      "potlist4 = []\n",
      "for z_i in xrange(Nz):\n",
      "    r = [xp,yp,Z[z_i]]\n",
      "    a = w.compute_total_dc_potential(r)\n",
      "    potlist4.append(a)\n",
      "potlist4 = array(potlist4) / max(np.abs(potlist4))\n",
      "potlist4 = (potlist4) - min((potlist4))\n",
      "clf()\n",
      "plot(Z,2*potlist3,'b',label='4th order')\n",
      "plot(Z,200*potlist4,'r')\n",
      "legend()\n",
      "#plot(Z,potlist4+potlist3,'y')\n"
     ],
     "language": "python",
     "metadata": {},
     "outputs": [
      {
       "metadata": {},
       "output_type": "pyout",
       "prompt_number": 14,
       "text": [
        "<matplotlib.legend.Legend at 0x7f422ecafb90>"
       ]
      },
      {
       "metadata": {},
       "output_type": "display_data",
       "png": "[encoded data removed]",
       "text": [
        "<matplotlib.figure.Figure at 0x7f42338fc7d0>"
       ]
      }
     ],
     "prompt_number": 14
    },
    {
     "cell_type": "code",
     "collapsed": false,
     "input": [
      "a = vdict.keys()\n",
      "a.sort()\n",
      "for k in a:\n",
      "    print k, vdict[k] / 1e14, vdict1[k]/1e6"
     ],
     "language": "python",
     "metadata": {},
     "outputs": [
      {
       "output_type": "stream",
       "stream": "stdout",
       "text": [
        "1 -0.013050158018 0.00464733246428\n",
        "10 -0.00348209070494 0.0019758239387\n",
        "11 -0.000593896918654 0.000557551314665\n",
        "12 -0.00628305082196 0.00291466496078\n",
        "13 -0.0194568705799 0.00718219597196\n",
        "14 0.0453082472123 0.00255715443628\n",
        "15 0.242835045169 -0.215798829771\n",
        "16 -0.487505242828 -0.166634125215\n",
        "17 0.242835308586 -0.215798829768\n",
        "18 0.0453082377651 0.00255715443656\n",
        "19 -0.0194568302314 0.00718219597365\n",
        "2 -0.0776848536674 0.0170151987288\n",
        "20 -0.00628305102765 0.00291466496081\n",
        "21 -0.00224766266175 0.00149671159941\n",
        "22 -0.000459762039331 0.000473624151314\n",
        "23 1.28087885318e-07 15.4017463809\n",
        "3 -0.480805123514 0.0700803653229\n",
        "4 7.66731217815 -0.842725472156\n",
        "5 -13.5809813905 -1.52748045677\n",
        "6 7.66731475076 -0.842725472161\n",
        "7 -0.480805123859 0.0700803653404\n",
        "8 -0.0776848565953 0.0170151987286\n",
        "9 -0.0130501545127 0.00464733247766\n"
       ]
      }
     ],
     "prompt_number": 10
    },
    {
     "cell_type": "code",
     "collapsed": false,
     "input": [],
     "language": "python",
     "metadata": {},
     "outputs": []
    },
    {
     "cell_type": "code",
     "collapsed": false,
     "input": [],
     "language": "python",
     "metadata": {},
     "outputs": []
    }
   ],
   "metadata": {}
  }
 ]
}