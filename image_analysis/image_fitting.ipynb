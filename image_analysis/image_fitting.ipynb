{
 "metadata": {
  "name": "",
  "signature": "sha256:c9fb851091edc73bb1dad8638d3861b454472a594ea46221359b107754a66fda"
 },
 "nbformat": 3,
 "nbformat_minor": 0,
 "worksheets": [
  {
   "cells": [
    {
     "cell_type": "code",
     "collapsed": false,
     "input": [
      "%pylab qt\n",
      "import matplotlib.pyplot as plt\n",
      "import matplotlib.image as mpimg\n",
      "import numpy as np\n",
      "from pylab import ginput"
     ],
     "language": "python",
     "metadata": {},
     "outputs": [
      {
       "output_type": "stream",
       "stream": "stdout",
       "text": [
        "Populating the interactive namespace from numpy and matplotlib\n"
       ]
      }
     ],
     "prompt_number": 1
    },
    {
     "cell_type": "code",
     "collapsed": false,
     "input": [
      "xmin, xmax = 200, 800\n",
      "ymin, ymax = 430, 480\n",
      "img=mpimg.imread('ion_strings/020215/44ions_xz2_Zero_U2_0_U3_0.13.tif')\n",
      "imshow(img[ymin:ymax, xmin:xmax])\n",
      "img=img[ymin:ymax, xmin:xmax]"
     ],
     "language": "python",
     "metadata": {},
     "outputs": [],
     "prompt_number": 18
    },
    {
     "cell_type": "code",
     "collapsed": false,
     "input": [
      "ions_to_fit = 4\n",
      "img_1d = np.sum(img, axis=0)\n",
      "plot(img_1d)\n",
      "threshold = ginput(0)\n",
      "#threshold = threshold[0][1]\n",
      "print threshold"
     ],
     "language": "python",
     "metadata": {},
     "outputs": [
      {
       "output_type": "stream",
       "stream": "stdout",
       "text": [
        "[(75.000000000000014, 17500.000000000004), (90.725806451612911, 22500.000000000004), (102.8225806451613, 24531.250000000004), (117.33870967741937, 26250.000000000004)]\n"
       ]
      }
     ],
     "prompt_number": 24
    },
    {
     "cell_type": "code",
     "collapsed": false,
     "input": [
      "current_state = 'off_ion'\n",
      "ion_edges = []\n",
      "for psn, x in enumerate(img_1d):\n",
      "    if current_state == 'off_ion' and x > threshold: # rising edge\n",
      "        rising_edge = psn -2\n",
      "        current_state = 'on_ion'\n",
      "    elif current_state == 'on_ion' and x < threshold: # falling edge\n",
      "        falling_edge = psn + 2\n",
      "        current_state = 'off_ion'\n",
      "        ion_edges.append((rising_edge, falling_edge))\n",
      "    else:\n",
      "        pass"
     ],
     "language": "python",
     "metadata": {},
     "outputs": [],
     "prompt_number": 11
    },
    {
     "cell_type": "code",
     "collapsed": false,
     "input": [
      "from lmfit.models1d import  GaussianModel\n",
      "centers = []\n",
      "for i, (xmin, xmax) in enumerate(ion_edges):\n",
      "    model = GaussianModel()\n",
      "    x = np.arange(xmin, xmax, 1)\n",
      "    y = img_1d[xmin:xmax]\n",
      "    model.guess_starting_values(y, x=x)\n",
      "    init_fit = model.model(x=x)\n",
      "    model.fit(y, x=x)\n",
      "    final_fit = model.model(x=x)\n",
      "    centers.append(model.params['center'].value)\n",
      "    #print model.fit_report(min_correl=0.25)\n",
      "    if i == 31:\n",
      "        figure()\n",
      "        plot(x, final_fit, 'r-')\n",
      "        plot(x, y)"
     ],
     "language": "python",
     "metadata": {},
     "outputs": [],
     "prompt_number": 12
    },
    {
     "cell_type": "code",
     "collapsed": false,
     "input": [
      "deltax = []\n",
      "for i, x in enumerate(ion_edges):\n",
      "    deltax.append( centers[i+1] - centers[i])"
     ],
     "language": "python",
     "metadata": {},
     "outputs": [
      {
       "ename": "IndexError",
       "evalue": "list index out of range",
       "output_type": "pyerr",
       "traceback": [
        "\u001b[1;31m---------------------------------------------------------------------------\u001b[0m\n\u001b[1;31mIndexError\u001b[0m                                Traceback (most recent call last)",
        "\u001b[1;32m<ipython-input-13-25319ebba3bf>\u001b[0m in \u001b[0;36m<module>\u001b[1;34m()\u001b[0m\n\u001b[0;32m      1\u001b[0m \u001b[0mdeltax\u001b[0m \u001b[1;33m=\u001b[0m \u001b[1;33m[\u001b[0m\u001b[1;33m]\u001b[0m\u001b[1;33m\u001b[0m\u001b[0m\n\u001b[0;32m      2\u001b[0m \u001b[1;32mfor\u001b[0m \u001b[0mi\u001b[0m\u001b[1;33m,\u001b[0m \u001b[0mx\u001b[0m \u001b[1;32min\u001b[0m \u001b[0menumerate\u001b[0m\u001b[1;33m(\u001b[0m\u001b[0mion_edges\u001b[0m\u001b[1;33m)\u001b[0m\u001b[1;33m:\u001b[0m\u001b[1;33m\u001b[0m\u001b[0m\n\u001b[1;32m----> 3\u001b[1;33m     \u001b[0mdeltax\u001b[0m\u001b[1;33m.\u001b[0m\u001b[0mappend\u001b[0m\u001b[1;33m(\u001b[0m \u001b[0mcenters\u001b[0m\u001b[1;33m[\u001b[0m\u001b[0mi\u001b[0m\u001b[1;33m+\u001b[0m\u001b[1;36m1\u001b[0m\u001b[1;33m]\u001b[0m \u001b[1;33m-\u001b[0m \u001b[0mcenters\u001b[0m\u001b[1;33m[\u001b[0m\u001b[0mi\u001b[0m\u001b[1;33m]\u001b[0m\u001b[1;33m)\u001b[0m\u001b[1;33m\u001b[0m\u001b[0m\n\u001b[0m",
        "\u001b[1;31mIndexError\u001b[0m: list index out of range"
       ]
      }
     ],
     "prompt_number": 13
    },
    {
     "cell_type": "code",
     "collapsed": false,
     "input": [
      "plot(deltax,'o')"
     ],
     "language": "python",
     "metadata": {},
     "outputs": [
      {
       "metadata": {},
       "output_type": "pyout",
       "prompt_number": 15,
       "text": [
        "[<matplotlib.lines.Line2D at 0x4e5f290>]"
       ]
      }
     ],
     "prompt_number": 15
    },
    {
     "cell_type": "code",
     "collapsed": false,
     "input": [
      "plot(centers)"
     ],
     "language": "python",
     "metadata": {},
     "outputs": [
      {
       "metadata": {},
       "output_type": "pyout",
       "prompt_number": 26,
       "text": [
        "[<matplotlib.lines.Line2D at 0x67a1a90>]"
       ]
      }
     ],
     "prompt_number": 26
    },
    {
     "cell_type": "code",
     "collapsed": false,
     "input": [
      "threshold"
     ],
     "language": "python",
     "metadata": {},
     "outputs": [
      {
       "metadata": {},
       "output_type": "pyout",
       "prompt_number": 21,
       "text": [
        "[(94.354838709677423, 25000.000000000004)]"
       ]
      }
     ],
     "prompt_number": 21
    },
    {
     "cell_type": "code",
     "collapsed": false,
     "input": [
      "ginput?"
     ],
     "language": "python",
     "metadata": {},
     "outputs": [],
     "prompt_number": 22
    },
    {
     "cell_type": "code",
     "collapsed": false,
     "input": [],
     "language": "python",
     "metadata": {},
     "outputs": []
    }
   ],
   "metadata": {}
  }
 ]
}